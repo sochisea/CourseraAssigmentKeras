{
  "nbformat": 4,
  "nbformat_minor": 0,
  "metadata": {
    "colab": {
      "name": "Copy of Interactive Script CAS AI 2020.ipynb",
      "provenance": [],
      "collapsed_sections": [
        "AzlnRxjqLs0z"
      ],
      "include_colab_link": true
    },
    "kernelspec": {
      "name": "python3",
      "display_name": "Python 3"
    }
  },
  "cells": [
    {
      "cell_type": "markdown",
      "metadata": {
        "id": "view-in-github",
        "colab_type": "text"
      },
      "source": [
        "<a href=\"https://colab.research.google.com/github/sochisea/CourseraAssigmentKeras/blob/master/Interactive_Script_CAS_AI_2020.ipynb\" target=\"_parent\"><img src=\"https://colab.research.google.com/assets/colab-badge.svg\" alt=\"Open In Colab\"/></a>"
      ]
    },
    {
      "cell_type": "markdown",
      "metadata": {
        "id": "C-LMHKvsG1xP"
      },
      "source": [
        "# Script \"CAS AI 2020\"\n"
      ]
    },
    {
      "cell_type": "markdown",
      "metadata": {
        "id": "M_kqJPNKJQKz"
      },
      "source": [
        "## Gradient Descent\n"
      ]
    },
    {
      "cell_type": "markdown",
      "metadata": {
        "id": "XtHnvJqmbRvZ"
      },
      "source": [
        "<img src=\"https://drive.google.com/uc?export=view&id=1aYrpCcCfOplKadHCfyACXWLlJrEKzVOz\" width=\"400\">"
      ]
    },
    {
      "cell_type": "markdown",
      "metadata": {
        "id": "l_4C5GDmJTqw"
      },
      "source": [
        "### What is a Gradient at all?\n",
        "Definition\n",
        "\n",
        "Source: https://en.wikipedia.org/wiki/Gradient?action=edit"
      ]
    },
    {
      "cell_type": "markdown",
      "metadata": {
        "id": "aau0WCgcJa1y"
      },
      "source": [
        "In vector calculus, the gradient of a scalar-valued differentiable function $f$ of several variables is the vector field (or vector-valued function) \n",
        "$\\nabla f$\n",
        " whose value at a point \n",
        "$\\displaystyle p$\n",
        " is the vector whose components are the partial derivatives of \n",
        "$\\displaystyle f$\n",
        " at \n",
        "$\\displaystyle p$\n",
        ". That is, for \n",
        "$\\displaystyle f\\colon \\mathbf {R} ^{n}\\to \\mathbf {R} $\n",
        ", its gradient \n",
        "$\\displaystyle \\nabla f\\colon \\mathbf {R} ^{n}\\to \\mathbf {R} ^{n}$\n",
        " is defined at the point \n",
        "$\\displaystyle \\mathrm {p} =(x_{1},\\ldots ,x_{n})$\n",
        " in n-dimensional space as the vector:\n",
        "\n",
        "$\\displaystyle \\nabla f(p)={\\begin{bmatrix}{\\frac {\\partial f}{\\partial x_{1}}}(p)\\\\\\vdots \\\\{\\frac {\\partial f}{\\partial x_{n}}}(p)\\end{bmatrix}}.$\n",
        "\n",
        "The nabla symbol \n",
        "$\\displaystyle \\nabla $\n",
        ", written as an upside-down triangle and pronounced \"del\", denotes the vector differential operator."
      ]
    },
    {
      "cell_type": "markdown",
      "metadata": {
        "id": "AzlnRxjqLs0z"
      },
      "source": [
        "### And in simple Words?\n",
        "The gardient of a function $f$ at a point $p$ is the value of partial derivatives of this function at this point.\n",
        "Well, the best thing is, as always, to show it on a toy example.\n",
        "Supposed we have a function $z(x_i,y_i) = \\displaystyle  \\sum_{i=1}^{n} 2x_i^2 + 3y_i^2, n = 2$\n",
        "\n",
        "#### Pay Attention 1\n",
        "We compute the symbolic derivatives under assumption that the variables are continous: $x, y \\in \\mathbf{R}$. Hence the summation symbol $\\sum_{i=0}^{n}$ has no impact on (partial) derivatives. This is a discrete operation which can be applied on the finite number of values, in our case - 2, **after** gradients are computed. The result of this operation is simply the sum of the gradient vector's elements. The number of this elements corresponds to the number of data points for which we compute gradients. And this is exactly what we want - the gradient value for every point and not their sum.\n",
        "\n",
        "For the sake of completeness, here is the general rule for derivatives of summation operators:\n",
        "\n",
        "$f(x) = \\displaystyle \\sum g(x) \\Rightarrow\n",
        "{\\cfrac {d}{dx}}f = \\displaystyle \\sum {\\cfrac {d}{dx}}g$\n",
        "\n",
        "In words: The derivative of the sum is equal the sum of derivatives.\n",
        "\n",
        "#### Pay Attention 2\n",
        "In case you see any constant factor before the summation symbol it will have inpact on (partial) derivatives since it can be interpreted as symbolic continuos factor:\n",
        "\n",
        "$z(x_i,y_i) = \\cfrac{1}{n}\\displaystyle \\sum_{i=1}^{n} 2x_i^2 + 3y_i^2, n = 2$\n",
        "\n",
        "can be wiritten as\n",
        "\n",
        "$z(x_i,y_i) = \\displaystyle \\sum_{i=1}^{n} \\cfrac{1}{2}(2x_i^2 + 3y_i^2)$ \n",
        "\n",
        "In this case you would treat $\\cfrac{1}{n} \\rightarrow \\cfrac{1}{2}$ as a factor when you compute derivatives.\n",
        "\n",
        "\n",
        "Nothing special yet, right? \n",
        "\n",
        "Now we are going to build partial derivatives of this function\n",
        "\n",
        "$z(x,y) = 2x^2 + 3y^2$ (as mentioned above - we ignore the summation operator):\n",
        "\n",
        "\n",
        "$\\displaystyle \\nabla z(p)={\\begin{bmatrix}{\\cfrac {\\partial z}{\\partial x}}(p)\\\\{\\cfrac {\\partial z}{\\partial y}}(p)\\end{bmatrix}}=\n",
        "{\\begin{bmatrix}{4x}(p)\\\\{6y}(p)\\end{bmatrix}}$\n",
        "\n",
        "But wait, what is about $\\mathbf p$?\n",
        "\n",
        "We haven't defined it yet!\n",
        "$p = (x, z)$\n",
        "$p$ is actually a list of **points** of the two, like we see here, or generally $n-dimensional$ function given by the values of its indipendend variables.\n",
        "\n",
        "**Example**\n",
        "\n",
        "Supposed we have the following values of $x = \\begin{bmatrix} 1 \\\\ 2 \\end{bmatrix} $ and $y = \\begin{bmatrix} 3 \\\\ 4 \\end{bmatrix} $\n",
        "\n",
        "So, what are the points $\\mathbf p$ to be plugged in to the partial derivatives computed above?\n",
        "\n",
        "Here we have only two points:\n",
        "\n",
        "$p_1=(x=1,y=3)$ and $p_2 = (x=2,y=4)$\n",
        "\n",
        "Now let's plug it:\n",
        "\n",
        "$\\displaystyle \\nabla z(p)={\\begin{bmatrix}{\\cfrac {\\partial z}{\\partial x}}(p)\\\\{\\cfrac {\\partial z}{\\partial y}}(p)\\end{bmatrix}}=\n",
        "{\\begin{bmatrix}{4x}(p)\\\\ {6y}(p)\\end{bmatrix}}\\\\\n",
        "\\nabla x(p)={\\begin{bmatrix}{4x}(x=1,y=3)\\\\ {4x}(x=2,y=4)\\end{bmatrix}}\\\\\\nabla y(p)={\\begin{bmatrix}{6y}(x=1,y=3)\\\\ {6y}(x=2,y=4)\\end{bmatrix}}\\\\\\nabla x(p)={\\begin{bmatrix}{4}\\\\ {8}\\end{bmatrix}}\\\\\n",
        "\\nabla y(p)={\\begin{bmatrix}{18}\\\\ {24}\\end{bmatrix}}$\n"
      ]
    },
    {
      "cell_type": "markdown",
      "metadata": {
        "id": "K8LOZ3R--VCH"
      },
      "source": [
        "### Let's now compute the same gradients with PyTorch"
      ]
    },
    {
      "cell_type": "code",
      "metadata": {
        "id": "qYYL_gqFG0-s",
        "colab": {
          "base_uri": "https://localhost:8080/"
        },
        "outputId": "5fcaf973-af01-48d3-e3c9-76365bc60594"
      },
      "source": [
        "import torch\n",
        "x = torch.tensor([1.0,2.0], requires_grad=True)\n",
        "y = torch.tensor([3.0,4.0], requires_grad=True)\n",
        "print(x, y)"
      ],
      "execution_count": null,
      "outputs": [
        {
          "output_type": "stream",
          "text": [
            "tensor([1., 2.], requires_grad=True) tensor([3., 4.], requires_grad=True)\n"
          ],
          "name": "stdout"
        }
      ]
    },
    {
      "cell_type": "code",
      "metadata": {
        "id": "gWomGecZY1_4"
      },
      "source": [
        "z = 2*x**2 + 3*y**2"
      ],
      "execution_count": null,
      "outputs": []
    },
    {
      "cell_type": "code",
      "metadata": {
        "id": "BDlT_aNWZzID"
      },
      "source": [
        "z = torch.sum(z)"
      ],
      "execution_count": null,
      "outputs": []
    },
    {
      "cell_type": "code",
      "metadata": {
        "colab": {
          "base_uri": "https://localhost:8080/"
        },
        "id": "ACfmFfTjgl4c",
        "outputId": "b6454733-eba2-495e-ccf5-8d6fa28f9615"
      },
      "source": [
        "z"
      ],
      "execution_count": null,
      "outputs": [
        {
          "output_type": "execute_result",
          "data": {
            "text/plain": [
              "tensor(85., grad_fn=<SumBackward0>)"
            ]
          },
          "metadata": {
            "tags": []
          },
          "execution_count": 7
        }
      ]
    },
    {
      "cell_type": "code",
      "metadata": {
        "id": "ySYVWuYgZhRR"
      },
      "source": [
        "z.backward()"
      ],
      "execution_count": null,
      "outputs": []
    },
    {
      "cell_type": "code",
      "metadata": {
        "colab": {
          "base_uri": "https://localhost:8080/"
        },
        "id": "hpjG8nLYZk-z",
        "outputId": "0afef9d5-e51c-4748-cf67-06048cecf9d1"
      },
      "source": [
        "x.grad, y.grad"
      ],
      "execution_count": null,
      "outputs": [
        {
          "output_type": "execute_result",
          "data": {
            "text/plain": [
              "(tensor([4., 8.]), tensor([18., 24.]))"
            ]
          },
          "metadata": {
            "tags": []
          },
          "execution_count": 9
        }
      ]
    },
    {
      "cell_type": "markdown",
      "metadata": {
        "id": "svl8N0PLoCQP"
      },
      "source": [
        "### Now the same for **mean**"
      ]
    },
    {
      "cell_type": "code",
      "metadata": {
        "colab": {
          "base_uri": "https://localhost:8080/"
        },
        "id": "HcRovpi6oIq9",
        "outputId": "2e9b168c-1efd-42fa-cbbe-c82602e3baef"
      },
      "source": [
        "import torch\n",
        "x = torch.tensor([1.0,2.0], requires_grad=True)\n",
        "y = torch.tensor([3.0,4.0], requires_grad=True)\n",
        "\n",
        "z = 2*x**2 + 3*y**2\n",
        "z = torch.mean(z)\n",
        "z.backward()\n",
        "x.grad, y.grad"
      ],
      "execution_count": null,
      "outputs": [
        {
          "output_type": "execute_result",
          "data": {
            "text/plain": [
              "(tensor([2., 4.]), tensor([ 9., 12.]))"
            ]
          },
          "metadata": {
            "tags": []
          },
          "execution_count": 10
        }
      ]
    },
    {
      "cell_type": "markdown",
      "metadata": {
        "id": "wipDBo6YqNZ0"
      },
      "source": [
        "### **Homework 1**\n",
        "Compute gradients **manually** for $z(x_i,y_i) = \\cfrac{1}{n} \\displaystyle \\sum_{i=1}^{n} 2x_i^2 + 3y_i^2, n = 2$"
      ]
    },
    {
      "cell_type": "markdown",
      "metadata": {
        "id": "trFVR_sB5gss"
      },
      "source": [
        "### What is the algorithm of Gradient Descent?\n",
        "\n",
        "Gradient Descent is used to find the optimal parameter $w$ (weights) and $b$ (bias) of a function $f(X) = X\\cdot w + b$ bei minimaizing the loss\n",
        "1. Step: Initialize $w$ and $b$\n",
        "2. Step: Compute $f(X) = X \\cdot w + b$ bei plugging $w, b, X$ in to the formula.\n",
        "$\\hat{y} = \\hat{f}(X) = X \\cdot w + b$\n",
        "3. Step: Using a Loss-Function of your choice compute the Loss $L(y, \\hat{y})$\n",
        "4. Step: Compute partial derivatives of the Loss-Function $L$ with respect to $w$ and $b$: ${\\cfrac {\\partial L}{\\partial w}},{\\cfrac {\\partial L}{\\partial b}}$\n",
        "5. Step: Plug $X$ (input data) in to the formulas of partial derivatives and compute the gradients for $w$ and $b$ respectivelly\n",
        "6. Step: Update the parameters $w_{new} = (w - \\nabla w) LR$ with $LR$ - learning rate and $\\nabla w$ - gradients of $w$. For bias: $b_{new} = (b - \\nabla b)LR$\n",
        "7. Step: Repeat"
      ]
    },
    {
      "cell_type": "markdown",
      "metadata": {
        "id": "Mit3I1RpXAOf"
      },
      "source": [
        "## Neural Networks\n",
        "\n",
        "The main common types of neural network layers are:\n",
        "1. Dense (Multilayer Perceptron)\n",
        "2. Convolutional\n",
        "3. Recurrent\n",
        "4. Combinations and special implementations of the 3 types above\n",
        "      1. Dense layers are common in all types of networks (e.g. as last 2 layers)\n",
        "      2. Convolutional Recurrent\n",
        "      3. Temporal Convolutional"
      ]
    },
    {
      "cell_type": "markdown",
      "metadata": {
        "id": "MTKJ5-PlauLR"
      },
      "source": [
        "### Dense Neural Networks"
      ]
    },
    {
      "cell_type": "markdown",
      "metadata": {
        "id": "8bLI6qGYOmR0"
      },
      "source": [
        "#### Perceptron"
      ]
    },
    {
      "cell_type": "markdown",
      "metadata": {
        "id": "cF8YhXXmdK-F"
      },
      "source": [
        "##### Definion \n",
        "\n",
        "Source: https://en.wikipedia.org/wiki/Perceptron"
      ]
    },
    {
      "cell_type": "markdown",
      "metadata": {
        "id": "x5YG6YGyI_7c"
      },
      "source": [
        "The perceptron algorithm was invented in **1958** at the Cornell Aeronautical Laboratory by **Frank Rosenblatt**, funded by the United States Office of Naval Research.\n",
        "\n",
        "In the modern sense, the perceptron is an algorithm for learning a binary classifier called a threshold function: a function that maps its input $\\mathbf {x}$  (a real-valued vector) to an output value $f(\\mathbf {x})$(a single binary value):\n",
        "\n",
        "$\\displaystyle f(\\mathbf {x} )={\\begin{cases}1&{\\text{if }}\\ \\mathbf {w} \\cdot \\mathbf {x} +b>0,\\\\0&{\\text{otherwise}}\\end{cases}}$\n",
        "\n",
        "where $\\mathbf {w}$  is a vector of real-valued weights, $\\displaystyle \\mathbf {w} \\cdot \\mathbf {x} $\n",
        "\n",
        "$\\displaystyle \\mathbf {w} \\cdot \\mathbf {x} $ is the dot product $\\displaystyle \\sum _{i=1}^{m}w_{i}x_{i}$, \n",
        "\n",
        "where $m$ is the number of inputs to the perceptron, and $b$ is the bias. The bias shifts the decision boundary away from the origin and does not depend on any input value."
      ]
    },
    {
      "cell_type": "markdown",
      "metadata": {
        "id": "9C4sxHoaaQlt"
      },
      "source": [
        "##### How does the perceptron work?\n",
        "\n",
        "Preceptron can be used for classification problems for two (binary) categories.\n",
        "\n",
        "1. It takes the data points $x$ as input vector\n",
        "2. Initializes the weights $w$ and the biases $b$ vectors with small random numbers\n",
        "3. Applies dot product on $x$ and $w$ and adds the bias $b$ vector\n",
        "4. All negative resuls are set to $0$, all positive results are set to $1$\n",
        "5. Then we compute the dot product $w \\cdot x$ $=\\hat{y}$ with ground truth values of $y$. If $y_i \\ne \\hat{y_i}$, we update the weights for these misclassified points:\n",
        "\n",
        "  $w_{new }= w + r (y -\\hat{y})$, with $r$ is the learning rate\n",
        "\n",
        "  If $y_i = \\hat{y_i}$, the update rule would not update the corresponding weight:\n",
        "  $w_{new }= w + r (y -\\hat{y}) = w + 0 = w$\n",
        "\n",
        "6. Repeat from Step 3.\n"
      ]
    },
    {
      "cell_type": "markdown",
      "metadata": {
        "id": "RorIFyRLnTxp"
      },
      "source": [
        "##### Let's code the perceptron!\n",
        "\n",
        "We generate some random points $(x, y)$ above and below the line $y = 10x + 5$. This line is also called \"decision boundary\", since it separates the two categories of points. Our perceptron must find this separation rule."
      ]
    },
    {
      "cell_type": "code",
      "metadata": {
        "colab": {
          "base_uri": "https://localhost:8080/",
          "height": 265
        },
        "id": "-7SeYvTmxWCQ",
        "outputId": "cec3e60f-e149-422c-ae0b-c35b842373ea"
      },
      "source": [
        "\n",
        "import random\n",
        "def y(x, m, b):\n",
        "  return m*x + b\n",
        "\n",
        "import numpy as np\n",
        "X = np.linspace(0, 10, 100)\n",
        "y_above = [y(x, 10, 5) + abs(random.gauss(20,40)) for x in X]\n",
        "y_below = [y(x, 10, 5) - abs(random.gauss(20,40)) for x in X]\n",
        "import matplotlib.pyplot as plt\n",
        "plt.scatter(X, y_below, c='b')\n",
        "plt.scatter(X, y_above, c='g')\n",
        "plt.plot(X, y(X, 10, 5),linestyle='solid', c='r', linewidth=3, label='decision boundary')\n",
        "plt.legend()\n",
        "plt.show()"
      ],
      "execution_count": null,
      "outputs": [
        {
          "output_type": "display_data",
          "data": {
            "image/png": "[encoded data removed]",
            "text/plain": [
              "<Figure size 432x288 with 1 Axes>"
            ]
          },
          "metadata": {
            "tags": [],
            "needs_background": "light"
          }
        }
      ]
    },
    {
      "cell_type": "markdown",
      "metadata": {
        "id": "TZO5EZ-O3DYn"
      },
      "source": [
        "Now we can create the Perceptron Class"
      ]
    },
    {
      "cell_type": "code",
      "metadata": {
        "id": "wPl90OB93CXB"
      },
      "source": [
        "import numpy as np\n",
        "from sklearn.metrics import accuracy_score\n",
        "\n",
        "class Perceptron(object):\n",
        "\n",
        "    def __init__(self, dim_inputs, epochs=100, learning_rate=0.01):\n",
        "        self.epochs = epochs\n",
        "        self.learning_rate = learning_rate\n",
        "        self.weights = np.zeros(dim_inputs + 1) # plus 1 for bias\n",
        "           \n",
        "    def predict_batch(self, inputs):\n",
        "        res_vector = np.dot(inputs, self.weights[1:]) + self.weights[0]\n",
        "        activations = [1 if elem > 0 else 0 for elem in res_vector]          \n",
        "        return np.array(activations)\n",
        "\n",
        "    def predict(self, inputs):\n",
        "        res = np.dot(inputs, self.weights[1:]) + self.weights[0]\n",
        "        # self.weights[0] is the bias\n",
        "        if res > 0:\n",
        "          activation = 1\n",
        "        else:\n",
        "          activation = 0          \n",
        "        return activation\n",
        "\n",
        "    def train(self, training_inputs, labels):\n",
        "        for _ in range(self.epochs):\n",
        "            for inputs, label in zip(training_inputs, labels):\n",
        "                prediction = self.predict(inputs)\n",
        "                self.weights[1:] += self.learning_rate * (label - prediction) * inputs # update weights\n",
        "                self.weights[0] += self.learning_rate * (label - prediction) # update bias"
      ],
      "execution_count": null,
      "outputs": []
    },
    {
      "cell_type": "markdown",
      "metadata": {
        "id": "EEDNQscJP0fx"
      },
      "source": [
        "We create the input data:\n",
        "\n",
        "$x_1$ and $x_2$\n",
        "\n",
        "whereas we generate two categories using the rule:\n",
        "1. One category above the line $x_2 = 10x_1 + 5$, and we label ist with 1\n",
        "2. Second - below this line and label it with 0\n",
        "\n",
        "The result is the following two-dimensional function:\n",
        "\n",
        "$ f(x_1, x_2) = x_1 w_1 + x_2 w_2 + bias$\n",
        "\n",
        "Our Perceptron will compute two weights and the bias term."
      ]
    },
    {
      "cell_type": "code",
      "metadata": {
        "colab": {
          "base_uri": "https://localhost:8080/"
        },
        "id": "LlhjO5olAmME",
        "outputId": "d54b155d-dfa6-431d-cb60-5f9df64ed33e"
      },
      "source": [
        "x_1 = np.linspace(0, 10, 100)\n",
        "\n",
        "x_2 = np.array([y(elem, 10, 5) + abs(random.gauss(20,40)) for elem in x_1])\n",
        "class_ones = np.column_stack((x_1, x_2))\n",
        "\n",
        "x_2 = np.array([y(elem, 10, 5) - abs(random.gauss(20,40)) for elem in x_1])\n",
        "class_zeros = np.column_stack((x_1, x_2))\n",
        "\n",
        "training_inputs = np.vstack((class_ones, class_zeros))\n",
        "\n",
        "print(training_inputs.shape)\n",
        "\n",
        "labels = np.hstack((np.ones(100), np.zeros(100))).T\n",
        "labels.shape"
      ],
      "execution_count": null,
      "outputs": [
        {
          "output_type": "stream",
          "text": [
            "(200, 2)\n"
          ],
          "name": "stdout"
        },
        {
          "output_type": "execute_result",
          "data": {
            "text/plain": [
              "(200,)"
            ]
          },
          "metadata": {
            "tags": []
          },
          "execution_count": 13
        }
      ]
    },
    {
      "cell_type": "code",
      "metadata": {
        "id": "ig7IyLiBEtwy"
      },
      "source": [
        "# Training\n",
        "perceptron = Perceptron(2, epochs=100)\n",
        "perceptron.train(training_inputs, labels)"
      ],
      "execution_count": null,
      "outputs": []
    },
    {
      "cell_type": "code",
      "metadata": {
        "colab": {
          "base_uri": "https://localhost:8080/"
        },
        "id": "NMUpCsZAE-Wn",
        "outputId": "c06343a4-1e2f-4da6-a06f-4492b2a197b1"
      },
      "source": [
        "# Inference\n",
        "perceptron.predict_batch(class_ones)"
      ],
      "execution_count": null,
      "outputs": [
        {
          "output_type": "execute_result",
          "data": {
            "text/plain": [
              "array([1, 1, 1, 1, 1, 1, 1, 1, 1, 1, 1, 1, 1, 1, 1, 1, 1, 1, 1, 1, 1, 1,\n",
              "       1, 1, 1, 1, 1, 1, 1, 1, 1, 1, 1, 1, 1, 1, 1, 1, 1, 1, 1, 1, 1, 1,\n",
              "       1, 1, 1, 1, 1, 1, 1, 1, 1, 1, 1, 1, 1, 1, 1, 1, 1, 1, 1, 1, 1, 1,\n",
              "       1, 1, 1, 1, 1, 1, 1, 1, 1, 1, 1, 1, 1, 1, 1, 1, 1, 1, 1, 1, 1, 1,\n",
              "       1, 1, 1, 1, 1, 1, 1, 1, 1, 1, 1, 1])"
            ]
          },
          "metadata": {
            "tags": []
          },
          "execution_count": 15
        }
      ]
    },
    {
      "cell_type": "code",
      "metadata": {
        "colab": {
          "base_uri": "https://localhost:8080/"
        },
        "id": "cVSfFrzHO35a",
        "outputId": "38166a74-48d6-444b-89c6-19c961ec99bf"
      },
      "source": [
        "perceptron.predict_batch(class_zeros)"
      ],
      "execution_count": null,
      "outputs": [
        {
          "output_type": "execute_result",
          "data": {
            "text/plain": [
              "array([0, 0, 0, 0, 0, 0, 0, 0, 0, 0, 0, 0, 0, 0, 0, 0, 0, 0, 0, 0, 0, 0,\n",
              "       0, 0, 0, 0, 0, 0, 0, 0, 0, 0, 0, 0, 0, 0, 0, 0, 0, 0, 0, 0, 0, 0,\n",
              "       0, 0, 0, 0, 0, 0, 0, 0, 0, 0, 0, 0, 0, 0, 0, 0, 0, 0, 0, 0, 0, 0,\n",
              "       0, 0, 0, 0, 0, 0, 0, 0, 0, 0, 0, 0, 0, 0, 0, 0, 0, 0, 0, 0, 0, 0,\n",
              "       0, 0, 0, 0, 0, 0, 0, 0, 0, 0, 0, 0])"
            ]
          },
          "metadata": {
            "tags": []
          },
          "execution_count": 16
        }
      ]
    },
    {
      "cell_type": "code",
      "metadata": {
        "colab": {
          "base_uri": "https://localhost:8080/"
        },
        "id": "XxEaudqNPJ3j",
        "outputId": "a3ad5821-4b89-4690-96fe-f23c48c33591"
      },
      "source": [
        "# weights\n",
        "perceptron.weights[1:]"
      ],
      "execution_count": null,
      "outputs": [
        {
          "output_type": "execute_result",
          "data": {
            "text/plain": [
              "array([-1.5959596 ,  0.15669795])"
            ]
          },
          "metadata": {
            "tags": []
          },
          "execution_count": 17
        }
      ]
    },
    {
      "cell_type": "code",
      "metadata": {
        "colab": {
          "base_uri": "https://localhost:8080/"
        },
        "id": "S19IGR-YPWKX",
        "outputId": "8e0a5013-1acd-4dc8-f680-9e6e4b1a9790"
      },
      "source": [
        "# bias\n",
        "perceptron.weights[0]"
      ],
      "execution_count": null,
      "outputs": [
        {
          "output_type": "execute_result",
          "data": {
            "text/plain": [
              "-0.6800000000000004"
            ]
          },
          "metadata": {
            "tags": []
          },
          "execution_count": 18
        }
      ]
    },
    {
      "cell_type": "markdown",
      "metadata": {
        "id": "w6-ClBt2Wnhc"
      },
      "source": [
        "##### Decision Boundary\n",
        "\n",
        "Since we have determined the weights and bias, we can now compute the line, which has separated two categrogies as we have created them. This line - decision boundary - we develop from our classification function, which weights and bias where approximated by Perceptron algorithm:\n",
        "\n",
        "$f(x_1, x_2)= x_1 \\cdot w_1 + x_2 \\cdot w_2 + b$\n",
        "\n",
        "Since we consider $x_1$ to be the $x$ and $x_2$ to be the $y$, we can rewrite it:\n",
        "\n",
        "$x \\cdot w_1 + y \\cdot w_2 + b$\n",
        "\n",
        "**First Point y==0, x-intercept:**\n",
        "\n",
        "$x = {\\cfrac{-(b - w_2y)} {w_1}}\\\\\n",
        "if \\space y == 0 \\Rightarrow\n",
        "x = {\\cfrac{-(b - w_20)}{w_1}} \\Rightarrow\n",
        "x = {\\cfrac {-b} {w_1}}$\n",
        "\n",
        "**Second Point x==0, y-intercept:**\n",
        "\n",
        "$y = {\\cfrac {-(b - w_1x)}{w_2}}\\\\\n",
        "if \\space x == 0 \\Rightarrow\n",
        "y = {\\cfrac {-(b - w_10)}{w_2}} \\Rightarrow\n",
        "y = \\cfrac {-b}{w_2}$\n",
        "\n",
        "**Slope:**\n",
        "\n",
        "$point_1 = (0, \\cfrac {-b} {w_2}) \\\\\n",
        "point_2 = (\\cfrac {-b} {w_1}, 0)\\\\\n",
        "m = \\cfrac {(y_2 - y_1)}{(x_2 - x_1)}\\Rightarrow\n",
        "m = 0 - \\Biggl(\\cfrac {-\\cfrac{b} {w_2}}{-\\cfrac {b}{w_1}- 0} \\Biggr)\\Rightarrow\n",
        "m = \\cfrac{-\\cfrac{b}{ w_2} }{\\cfrac{b}{ w_1}}$\n",
        "\n",
        "**y-intercept:** \n",
        "\n",
        "$y_{intercept} = \\cfrac{-b }{w_2}$\n",
        "\n",
        "**Complete formula:**\n",
        "\n",
        "$\\mathbf {y = \\cfrac{-\\cfrac{b}{ w_2} }{\\cfrac{b}{ w_1}}x + \\Biggl(\\cfrac{-b }{w_2}\\Biggl)}$\n"
      ]
    },
    {
      "cell_type": "code",
      "metadata": {
        "id": "i-IHeblSbRss"
      },
      "source": [
        "b = perceptron.weights[0]\n",
        "w_1 = perceptron.weights[1]\n",
        "w_2 = perceptron.weights[2]"
      ],
      "execution_count": null,
      "outputs": []
    },
    {
      "cell_type": "code",
      "metadata": {
        "id": "D3t0uwXObB0M"
      },
      "source": [
        "y_hat = (-(b/w_2)/(b/w_1))* X + (-b/w_2)"
      ],
      "execution_count": null,
      "outputs": []
    },
    {
      "cell_type": "code",
      "metadata": {
        "colab": {
          "base_uri": "https://localhost:8080/",
          "height": 265
        },
        "id": "NFZGwNxvbylH",
        "outputId": "8b3a1561-f5cf-472d-bc39-9780b072d61d"
      },
      "source": [
        "import random\n",
        "def y(x, m, b):\n",
        "  return m*x + b\n",
        "\n",
        "import numpy as np\n",
        "X = np.linspace(0, 10, 100)\n",
        "y_above = [y(x, 10, 5) + abs(random.gauss(20,40)) for x in X]\n",
        "y_below = [y(x, 10, 5) - abs(random.gauss(20,40)) for x in X]\n",
        "plt.scatter(X, y_below, c='b')\n",
        "plt.scatter(X, y_above, c='g')\n",
        "plt.plot(X, y(X, 10, 5),linestyle='solid', c='yellow', linewidth=5, label='original decision boundary')\n",
        "plt.plot(X, y_hat, c='red', linewidth=1, ls = '-.', label='perceptron decision boundary')\n",
        "plt.legend()\n",
        "plt.show();"
      ],
      "execution_count": null,
      "outputs": [
        {
          "output_type": "display_data",
          "data": {
            "image/png": "[encoded data removed]",
            "text/plain": [
              "<Figure size 432x288 with 1 Axes>"
            ]
          },
          "metadata": {
            "tags": [],
            "needs_background": "light"
          }
        }
      ]
    },
    {
      "cell_type": "markdown",
      "metadata": {
        "id": "fnPliqsLd4xv"
      },
      "source": [
        "As we see, we have achieved **exact fit**!"
      ]
    },
    {
      "cell_type": "markdown",
      "metadata": {
        "id": "QkLL3vSiqMGz"
      },
      "source": [
        "##### Visualization of the Perceptron training\n",
        "\n",
        "https://owenshen24.github.io/perceptron/"
      ]
    },
    {
      "cell_type": "markdown",
      "metadata": {
        "id": "2gzfgJC5QWQg"
      },
      "source": [
        "##### Wait, we have seen this thing already! But what was it?\n",
        "\n",
        "Of course, it resembles **ReLU** activation function applied on linear unit $w \\cdot x + b$\n",
        "\n",
        "$\\displaystyle f(\\mathbf {x})={\\begin{cases}\\mathbf{w} \\cdot \\mathbf {x} +b&{\\text{if }}\\ \\mathbf {w} \\cdot \\mathbf {x} +b>0,\\\\0&{\\text{otherwise}}\\end{cases}}$\n",
        "\n",
        "The difference is that the ReLU preserves the positive output of $w \\cdot x + b$ and the Perceptron sets it to 1.\n",
        "\n",
        "The ReLU is more universal. It can be used for regression cases as well.\n",
        "\n",
        "As we see the perceptron has already a build-in activation function. We will discuss activation functions and their different flavors in the next chapters in detail. \n",
        "\n",
        "But the idea of perceptron is the foundation of entire AI."
      ]
    },
    {
      "cell_type": "markdown",
      "metadata": {
        "id": "j88-csMaY-WA"
      },
      "source": [
        "#### The biological neuron as inspiration for perceptron and entire AI "
      ]
    },
    {
      "cell_type": "markdown",
      "metadata": {
        "id": "KIgVy_QLcRHg"
      },
      "source": [
        "#### From Perceptron to Dense Network"
      ]
    },
    {
      "cell_type": "markdown",
      "metadata": {
        "id": "xYSW7GfEbkoq"
      },
      "source": [
        "The idea of Percepton was the foundation of modern AI and Dense Neural networks particulary.\n",
        "\n",
        "Besides the genious idea, the Perceptron has a couple of shortcomings. \n",
        "\n",
        "Fistly, it can only output 1 or 0, so it can not be used for regression problems.\n",
        "\n",
        "Secondly, it's weights update rule. As a Loss Function in original Perceptron definition we just use $y -\\hat{y}$ which is the difference between the ground truth and predicted. But from Gradient Descent algorithm we know that we build partial derivatives of the Loss Function, which reflects the function's **slope**. The Gradient Descent seems to be more fine graned update algorithm. \n",
        "\n",
        "Out of these shortcomings the idea of Dense networks was developed.\n",
        "\n",
        "What are the dense networks?\n",
        "\n",
        "1. They consist of several layers.\n",
        "2. Each of them can contain a set of Perceptrons.\n",
        "3. We use the Gradient Descent instead of Perceptron update rule.\n",
        "4. We are free to use any of available loss functions.\n",
        "\n",
        "Therefore the Dense Nets are called **MLP - Multilayer Perceptron**. Another name for them is **FFD - Feed Forward Dense Network**.\n"
      ]
    },
    {
      "cell_type": "markdown",
      "metadata": {
        "id": "_sRRlxdaLKT6"
      },
      "source": [
        "#### Anatomy of MLP on a toy example\n",
        "\n",
        "Let's construct as toy example of MLP.\n",
        "We assume that our dataset consist of **3 features** and  **1 target** variable.\n",
        "\n",
        "We construct the following simple Dense Net.\n",
        "1. Number of Input neurons: 3 (because of 3 inputs)\n",
        "2. First Hidden Layer: 4\n",
        "3. Second Hidden Layer: 6\n",
        "4. Output Layer: 1 (because of one output)\n",
        "\n",
        "Now we can code it in Tensorflow and see what is inside."
      ]
    },
    {
      "cell_type": "code",
      "metadata": {
        "colab": {
          "base_uri": "https://localhost:8080/"
        },
        "id": "ZLUE9wBbMd0f",
        "outputId": "f7d2a906-1687-4d8e-b9ed-1d0e8df5926f"
      },
      "source": [
        "import tensorflow as tf\n",
        "# we will use the Keras functional API for that\n",
        "input_layer = tf.keras.Input(shape=(3), name=\"input\")\n",
        "h1 = tf.keras.layers.Dense(4, name=\"h1\")(input_layer)\n",
        "h2 = tf.keras.layers.Dense(6, name=\"h2\")(h1)\n",
        "output_layer = tf.keras.layers.Dense(1, name=\"output\")(h2)\n",
        "\n",
        "# now we can create the model and print the summary\n",
        "model = tf.keras.Model(input_layer, output_layer)\n",
        "model.summary()"
      ],
      "execution_count": null,
      "outputs": [
        {
          "output_type": "stream",
          "text": [
            "Model: \"functional_1\"\n",
            "_________________________________________________________________\n",
            "Layer (type)                 Output Shape              Param #   \n",
            "=================================================================\n",
            "input (InputLayer)           [(None, 3)]               0         \n",
            "_________________________________________________________________\n",
            "h1 (Dense)                   (None, 4)                 16        \n",
            "_________________________________________________________________\n",
            "h2 (Dense)                   (None, 6)                 30        \n",
            "_________________________________________________________________\n",
            "output (Dense)               (None, 1)                 7         \n",
            "=================================================================\n",
            "Total params: 53\n",
            "Trainable params: 53\n",
            "Non-trainable params: 0\n",
            "_________________________________________________________________\n"
          ],
          "name": "stdout"
        }
      ]
    },
    {
      "cell_type": "markdown",
      "metadata": {
        "id": "2_DJhnIpSqP2"
      },
      "source": [
        "Let's now inspect the weights and bias for every layer of the model\n",
        "Input Layer has no weights. It just serves as a data entrance of the model.\n",
        "\n",
        "So the first layer where we get the weights and bias is the first hidden layer. The weights matrix is called **kernel**."
      ]
    },
    {
      "cell_type": "markdown",
      "metadata": {
        "id": "w0KVg9brlYLA"
      },
      "source": [
        "##### First Hidden Layer"
      ]
    },
    {
      "cell_type": "code",
      "metadata": {
        "colab": {
          "base_uri": "https://localhost:8080/"
        },
        "id": "H0_pLWxLRxEc",
        "outputId": "3cf89b55-5c10-4020-bd4f-2090b8acb6de"
      },
      "source": [
        "# First hidden layer\n",
        "model.weights[0]"
      ],
      "execution_count": null,
      "outputs": [
        {
          "output_type": "execute_result",
          "data": {
            "text/plain": [
              "<tf.Variable 'h1/kernel:0' shape=(3, 4) dtype=float32, numpy=\n",
              "array([[ 0.5687041 ,  0.07347417,  0.6998538 ,  0.7086445 ],\n",
              "       [ 0.08319986, -0.02606392,  0.47737002, -0.05234039],\n",
              "       [ 0.1147269 ,  0.7431338 ,  0.52703285, -0.8862021 ]],\n",
              "      dtype=float32)>"
            ]
          },
          "metadata": {
            "tags": []
          },
          "execution_count": 23
        }
      ]
    },
    {
      "cell_type": "markdown",
      "metadata": {
        "id": "iafXF6S9SpmN"
      },
      "source": [
        "Now let's see the bias **vector**:"
      ]
    },
    {
      "cell_type": "code",
      "metadata": {
        "colab": {
          "base_uri": "https://localhost:8080/"
        },
        "id": "t14uV9lYSbGG",
        "outputId": "19603de0-5d0a-4684-eed0-f69033dd8283"
      },
      "source": [
        "model.weights[1]"
      ],
      "execution_count": null,
      "outputs": [
        {
          "output_type": "execute_result",
          "data": {
            "text/plain": [
              "<tf.Variable 'h1/bias:0' shape=(4,) dtype=float32, numpy=array([0., 0., 0., 0.], dtype=float32)>"
            ]
          },
          "metadata": {
            "tags": []
          },
          "execution_count": 24
        }
      ]
    },
    {
      "cell_type": "markdown",
      "metadata": {
        "id": "XDIin5QvTWfh"
      },
      "source": [
        "Our observation:\n",
        "\n",
        "1. Weights matrix with shape $(3, 4)$ was created and initialised with small random numbers\n",
        "2. Bias vector of shape $(4,)$ was created and initialised with zeros.\n",
        "\n",
        "The data $\\mathrm{D}$ has the shape $(n, 3)$ with $n=$ number of samples.\n",
        "Now we compute the dot-product of the input matrix and weights:\n",
        "\n",
        "\\begin{equation}\n",
        "\\underset{n\\times 4}{\\mathrm{O_1}} = \\underset{n\\times 3}{\\mathrm{D_{input}}} \\times \n",
        "\\underset{3\\times 4}{\\mathrm{W_1}}\n",
        "\\end{equation}\n",
        "\n",
        "The output of the first hidden layer $\\mathrm{O_1}$ has the shape $(n, 4)$.\n",
        "\n",
        "Then we can broadcast (add) the bias vector to every row (sample) of the output matrix. Depending on what backend technology is used, this operation can be done blazing fast, like broadcasting (here addition) in **Numpy** which is written in Fortran. The core dataflow execution engine of **TensorFlow** and most of its matrix operations (e.g., matmul) are in $C\\texttt{++}$\n",
        "\n",
        "Let's us now inspect the parameters of the second hidden layer."
      ]
    },
    {
      "cell_type": "markdown",
      "metadata": {
        "id": "8CGr_UJRldll"
      },
      "source": [
        "##### Second Hidden Layer"
      ]
    },
    {
      "cell_type": "code",
      "metadata": {
        "colab": {
          "base_uri": "https://localhost:8080/"
        },
        "id": "jAbj4IhVfUcv",
        "outputId": "e081119c-fae7-430b-a4b1-ce88a3b3b27d"
      },
      "source": [
        "# Second hidden layer\n",
        "model.weights[2]"
      ],
      "execution_count": null,
      "outputs": [
        {
          "output_type": "execute_result",
          "data": {
            "text/plain": [
              "<tf.Variable 'h2/kernel:0' shape=(4, 6) dtype=float32, numpy=\n",
              "array([[ 0.26779974,  0.35370135, -0.35989153, -0.70678115, -0.6702993 ,\n",
              "        -0.73858666],\n",
              "       [ 0.6736789 ,  0.39879107,  0.05828816,  0.06887668,  0.6884483 ,\n",
              "        -0.05355501],\n",
              "       [ 0.17777127,  0.48412585, -0.1697653 ,  0.05011725, -0.35683826,\n",
              "        -0.6477898 ],\n",
              "       [ 0.32009912, -0.53862166, -0.3525432 , -0.15358561,  0.6417239 ,\n",
              "         0.34919107]], dtype=float32)>"
            ]
          },
          "metadata": {
            "tags": []
          },
          "execution_count": 25
        }
      ]
    },
    {
      "cell_type": "code",
      "metadata": {
        "colab": {
          "base_uri": "https://localhost:8080/"
        },
        "id": "GhIYbe_NfaYO",
        "outputId": "c9387b3f-c611-44f0-8027-8808a28e87df"
      },
      "source": [
        "model.weights[3]"
      ],
      "execution_count": null,
      "outputs": [
        {
          "output_type": "execute_result",
          "data": {
            "text/plain": [
              "<tf.Variable 'h2/bias:0' shape=(6,) dtype=float32, numpy=array([0., 0., 0., 0., 0., 0.], dtype=float32)>"
            ]
          },
          "metadata": {
            "tags": []
          },
          "execution_count": 26
        }
      ]
    },
    {
      "cell_type": "markdown",
      "metadata": {
        "id": "mS2gWDaeZuhM"
      },
      "source": [
        "Our observation:\n",
        "\n",
        "1. Weights matrix with shape $(4, 6)$ was created and initialised with small random numbers\n",
        "2. Bias vector of shape $(6,)$ was created and initialised with zeros.\n",
        "\n",
        "The data $\\mathrm{O_1}$ has then shape $(n, 4)$ with $n=$ number of samples and $4=$ number of outputs of the first layer.\n",
        "Now we compute the dot-product of $\\mathrm{O_1}$ and the weights matrix (kernel) of the second layer:\n",
        "\n",
        "\\begin{equation}\n",
        "\\underset{n\\times 6}{\\mathrm{O_2}} =  \\underset{n\\times 4}{\\mathrm{O_1}} \\times \n",
        "\\underset{4\\times 6}{\\mathrm{W_2}}\n",
        "\\end{equation}\n",
        "\n",
        "The output of the second hidden layer $\\mathrm{O_2}$ has the shape $(n, 6)$. The we add the bias term $\\underset{1\\times 6}{\\mathrm{b_2}}$ to every row of $\\mathrm{O_2}$.\n"
      ]
    },
    {
      "cell_type": "markdown",
      "metadata": {
        "id": "MaUgmfgJlq99"
      },
      "source": [
        "##### Output"
      ]
    },
    {
      "cell_type": "code",
      "metadata": {
        "colab": {
          "base_uri": "https://localhost:8080/"
        },
        "id": "wV0ee4VVlhIa",
        "outputId": "cf00a0c0-cd0e-462e-8dca-8b7106573aa7"
      },
      "source": [
        "model.weights[4]"
      ],
      "execution_count": null,
      "outputs": [
        {
          "output_type": "execute_result",
          "data": {
            "text/plain": [
              "<tf.Variable 'output/kernel:0' shape=(6, 1) dtype=float32, numpy=\n",
              "array([[ 0.08183289],\n",
              "       [ 0.72759664],\n",
              "       [-0.5199509 ],\n",
              "       [-0.3379833 ],\n",
              "       [ 0.18167996],\n",
              "       [ 0.31611812]], dtype=float32)>"
            ]
          },
          "metadata": {
            "tags": []
          },
          "execution_count": 27
        }
      ]
    },
    {
      "cell_type": "code",
      "metadata": {
        "colab": {
          "base_uri": "https://localhost:8080/"
        },
        "id": "1DwufFRsluQ5",
        "outputId": "f2d16662-3759-4e49-8b30-a5e3fd1c67da"
      },
      "source": [
        "model.weights[5]"
      ],
      "execution_count": null,
      "outputs": [
        {
          "output_type": "execute_result",
          "data": {
            "text/plain": [
              "<tf.Variable 'output/bias:0' shape=(1,) dtype=float32, numpy=array([0.], dtype=float32)>"
            ]
          },
          "metadata": {
            "tags": []
          },
          "execution_count": 28
        }
      ]
    },
    {
      "cell_type": "markdown",
      "metadata": {
        "id": "yNWO5u7Bl_rd"
      },
      "source": [
        "###### Homework\n",
        "\n",
        "**Part 1**\n",
        "\n",
        "Please, replace the placeholder $?$ with correct dimensions for $\\mathrm{O_{output}}$:\n",
        "\n",
        "\\begin{equation}\n",
        "\\underset{n\\times ?}{\\mathrm{O_{output}}} =  \\underset{?\\times ?}{\\mathrm{O_2}} \\times \n",
        "\\underset{?\\times ?}{\\mathrm{W_3}}\n",
        "\\end{equation}\n",
        "\n",
        "To compute the output we must then add the bias term, which is in this case a single number (scalar) to every row of the output matrix (not included in this task).\n",
        "\n",
        "**Part 2**\n",
        "\n",
        "Compute the number of all parameters (hint: it should be 53)"
      ]
    },
    {
      "cell_type": "markdown",
      "metadata": {
        "id": "8GFC1jZjmDYE"
      },
      "source": [
        "##### Formal neuron connection scheme in Dense Nets\n",
        "\n",
        "Here you can see how the neurons are connected in the fully connected (Dense) network:\n",
        "\n",
        "http://alexlenail.me/NN-SVG/AlexNet.html\n",
        "\n",
        "Well, this looks quite cool. But how these scheme is related to what we have done in the previous chapter - matrix multiplication?\n",
        "\n",
        "We \"connect\" one layer to the next by multiplying its output with the weights matrix of the next layer. And we do it for the whole layer at ones and not neuron by neuron to make this operation as fast as possible.\n",
        "\n",
        "Every neuron of the hidden layer $n$ is the result of the dot product of the outputs of the previous hidden layer $n-1$ and weights vector of the hidden layer $n$ with corresponding size. The $output\\:size_{n-1}$ corresponds to the number of neurons of the of the previous hidden layer $n-1$:\n",
        "\n",
        "\\begin{equation}\n",
        "\\underset{sample\\:length\\times 1}{\\mathrm{N_n}} =  \\underset{sample\\:length\\times {output\\:size_{n-1}}}{\\mathrm{N_{n-1}}} \\times \n",
        "\\underset{outputsize_{n-1} \\times {1}}{\\mathrm{W_n}}\n",
        "\\end{equation}\n",
        "\n",
        "For every neuron of the layer $n$ we have its own weights vector of size  $outputsize_{n-1}$, which corresponds to the output size (number of neurons) of the previous vector.\n",
        "\n",
        "This weight multiplication is represented by arrows, connection pathways, on the diagram above.\n",
        "\n",
        "The output of each neuron is a one dimensional vector of shape ($sample\\:length$, ).\n",
        "\n",
        "But again, we do it in two steps only: \n",
        "\n",
        "1. We compute the dot product for the entire layer and not neuron by neuron. \n",
        "2. We broadcast (add) the bias terms vector to every sample row of the dot product result."
      ]
    },
    {
      "cell_type": "markdown",
      "metadata": {
        "id": "xkX58fNVsv9b"
      },
      "source": [
        "### Why the Perceptron is not enough?\n",
        "\n",
        "Even for classification tasks, the Perceptron will fail if the data is highly non linear. Here is the proof. Let us generate some data wich is twisted like a spiral. \n",
        "I'll take the example code from the following gist: https://gist.github.com/45deg/e731d9e7f478de134def5668324c44c5\n"
      ]
    },
    {
      "cell_type": "code",
      "metadata": {
        "colab": {
          "base_uri": "https://localhost:8080/",
          "height": 265
        },
        "id": "eQH7zFotsvId",
        "outputId": "a8308e1e-a8ae-4b35-ecaf-50bc1c0b8185"
      },
      "source": [
        "import numpy as np\n",
        "from numpy import pi\n",
        "import matplotlib.pyplot as plt\n",
        "\n",
        "N = 400\n",
        "theta = np.sqrt(np.random.rand(N))*2*pi # np.linspace(0,2*pi,100)\n",
        "\n",
        "r_a = 2*theta + pi\n",
        "data_a = np.array([np.cos(theta)*r_a, np.sin(theta)*r_a]).T\n",
        "x_a = data_a + np.random.randn(N,2)\n",
        "\n",
        "r_b = -2*theta - pi\n",
        "data_b = np.array([np.cos(theta)*r_b, np.sin(theta)*r_b]).T\n",
        "x_b = data_b + np.random.randn(N,2)\n",
        "\n",
        "res_a = np.append(x_a, np.zeros((N,1)).astype(int), axis=1)\n",
        "res_b = np.append(x_b, np.ones((N,1)).astype(int), axis=1)\n",
        "\n",
        "res = np.append(res_a, res_b, axis=0)\n",
        "np.random.shuffle(res)\n",
        "\n",
        "\n",
        "plt.scatter(x_a[:,0],x_a[:,1])\n",
        "plt.scatter(x_b[:,0],x_b[:,1])\n",
        "plt.show()"
      ],
      "execution_count": null,
      "outputs": [
        {
          "output_type": "display_data",
          "data": {
            "image/png": "[encoded data removed]",
            "text/plain": [
              "<Figure size 432x288 with 1 Axes>"
            ]
          },
          "metadata": {
            "tags": [],
            "needs_background": "light"
          }
        }
      ]
    },
    {
      "cell_type": "code",
      "metadata": {
        "colab": {
          "base_uri": "https://localhost:8080/"
        },
        "id": "KO1cCxFEtwiE",
        "outputId": "85271244-cff1-4b6f-d942-a0b237ac5eaa"
      },
      "source": [
        "res"
      ],
      "execution_count": null,
      "outputs": [
        {
          "output_type": "execute_result",
          "data": {
            "text/plain": [
              "array([[-10.09298413,   0.13901246,   0.        ],\n",
              "       [  2.32378299, -12.43915346,   0.        ],\n",
              "       [ -8.71956406,   0.1368587 ,   0.        ],\n",
              "       ...,\n",
              "       [ -1.17209875,  -5.81719666,   1.        ],\n",
              "       [  5.82237351,  10.34822927,   1.        ],\n",
              "       [ -9.63500312,  -0.11806024,   0.        ]])"
            ]
          },
          "metadata": {
            "tags": []
          },
          "execution_count": 128
        }
      ]
    },
    {
      "cell_type": "code",
      "metadata": {
        "colab": {
          "base_uri": "https://localhost:8080/",
          "height": 204
        },
        "id": "eB-Gu6M8t2Rc",
        "outputId": "03ea4031-dec8-452a-93c2-228a57c5d836"
      },
      "source": [
        "import pandas as pd\n",
        "pd.DataFrame(res, columns=['a', 'b', 'target']).head(5)"
      ],
      "execution_count": null,
      "outputs": [
        {
          "output_type": "execute_result",
          "data": {
            "text/html": [
              "<div>\n",
              "<style scoped>\n",
              "    .dataframe tbody tr th:only-of-type {\n",
              "        vertical-align: middle;\n",
              "    }\n",
              "\n",
              "    .dataframe tbody tr th {\n",
              "        vertical-align: top;\n",
              "    }\n",
              "\n",
              "    .dataframe thead th {\n",
              "        text-align: right;\n",
              "    }\n",
              "</style>\n",
              "<table border=\"1\" class=\"dataframe\">\n",
              "  <thead>\n",
              "    <tr style=\"text-align: right;\">\n",
              "      <th></th>\n",
              "      <th>a</th>\n",
              "      <th>b</th>\n",
              "      <th>target</th>\n",
              "    </tr>\n",
              "  </thead>\n",
              "  <tbody>\n",
              "    <tr>\n",
              "      <th>0</th>\n",
              "      <td>-10.092984</td>\n",
              "      <td>0.139012</td>\n",
              "      <td>0.0</td>\n",
              "    </tr>\n",
              "    <tr>\n",
              "      <th>1</th>\n",
              "      <td>2.323783</td>\n",
              "      <td>-12.439153</td>\n",
              "      <td>0.0</td>\n",
              "    </tr>\n",
              "    <tr>\n",
              "      <th>2</th>\n",
              "      <td>-8.719564</td>\n",
              "      <td>0.136859</td>\n",
              "      <td>0.0</td>\n",
              "    </tr>\n",
              "    <tr>\n",
              "      <th>3</th>\n",
              "      <td>-10.302601</td>\n",
              "      <td>-1.354149</td>\n",
              "      <td>0.0</td>\n",
              "    </tr>\n",
              "    <tr>\n",
              "      <th>4</th>\n",
              "      <td>-7.821615</td>\n",
              "      <td>-4.237083</td>\n",
              "      <td>0.0</td>\n",
              "    </tr>\n",
              "  </tbody>\n",
              "</table>\n",
              "</div>"
            ],
            "text/plain": [
              "           a          b  target\n",
              "0 -10.092984   0.139012     0.0\n",
              "1   2.323783 -12.439153     0.0\n",
              "2  -8.719564   0.136859     0.0\n",
              "3 -10.302601  -1.354149     0.0\n",
              "4  -7.821615  -4.237083     0.0"
            ]
          },
          "metadata": {
            "tags": []
          },
          "execution_count": 129
        }
      ]
    },
    {
      "cell_type": "markdown",
      "metadata": {
        "id": "dNCu-Dh0uoNu"
      },
      "source": [
        "So, we have here two data types: **a** is organge, and **b** is blue, whereas orange denoted as zero, and blue - as one. Let's train the Perceptron on it."
      ]
    },
    {
      "cell_type": "markdown",
      "metadata": {
        "id": "RC6TpDyI5Yo4"
      },
      "source": [
        "#### Preceptron Training"
      ]
    },
    {
      "cell_type": "code",
      "metadata": {
        "id": "eFZgT4PDvKaP"
      },
      "source": [
        "# Training\n",
        "perceptron = Perceptron(2, epochs=100)\n",
        "perceptron.train(training_inputs=res[:, 0:2], labels=res[:, 2:3])"
      ],
      "execution_count": null,
      "outputs": []
    },
    {
      "cell_type": "code",
      "metadata": {
        "id": "xbk6JnzPwDlp"
      },
      "source": [
        "y = res[:, 2:3]\n",
        "y_hat = perceptron.predict_batch(res[:, 0:2])"
      ],
      "execution_count": null,
      "outputs": []
    },
    {
      "cell_type": "code",
      "metadata": {
        "colab": {
          "base_uri": "https://localhost:8080/"
        },
        "id": "o0rpxCY2w3hf",
        "outputId": "3850a338-4c31-44f8-a588-b1abb48f36fb"
      },
      "source": [
        "from sklearn.metrics import accuracy_score, recall_score, precision_score\n",
        "print(\"Accuracy:\", accuracy_score(y, y_hat))\n",
        "print(\"Recall:\", recall_score(y, y_hat))\n",
        "print(\"Precision:\", precision_score(y, y_hat))"
      ],
      "execution_count": null,
      "outputs": [
        {
          "output_type": "stream",
          "text": [
            "Accuracy: 0.55625\n",
            "Recall: 0.57\n",
            "Precision: 0.5547445255474452\n"
          ],
          "name": "stdout"
        }
      ]
    },
    {
      "cell_type": "markdown",
      "metadata": {
        "id": "ttvt7y4Qyu_S"
      },
      "source": [
        "All scores are around 60%, which is almost a **random guess**."
      ]
    },
    {
      "cell_type": "markdown",
      "metadata": {
        "id": "QOsESGyk5-Er"
      },
      "source": [
        "#### MLP Training"
      ]
    },
    {
      "cell_type": "code",
      "metadata": {
        "id": "2OU39Yu70B0o"
      },
      "source": [
        "# first we scale the data\n",
        "from sklearn.preprocessing import MinMaxScaler\n",
        "scaler = MinMaxScaler((0,1))\n",
        "res[:, 0:2] = scaler.fit_transform(res[:, 0:2])"
      ],
      "execution_count": null,
      "outputs": []
    },
    {
      "cell_type": "code",
      "metadata": {
        "colab": {
          "base_uri": "https://localhost:8080/"
        },
        "id": "MnAkGDcb0PFW",
        "outputId": "ac5f3843-cbc4-4662-fa6c-5bc61a53cce9"
      },
      "source": [
        "np.min(res[:, 0:2]), np.max(res[:, 0:2])"
      ],
      "execution_count": null,
      "outputs": [
        {
          "output_type": "execute_result",
          "data": {
            "text/plain": [
              "(0.0, 1.0)"
            ]
          },
          "metadata": {
            "tags": []
          },
          "execution_count": 134
        }
      ]
    },
    {
      "cell_type": "code",
      "metadata": {
        "colab": {
          "base_uri": "https://localhost:8080/"
        },
        "id": "zJxiEoDU0bXu",
        "outputId": "89ca260a-752f-4c9c-ca51-d986f08114df"
      },
      "source": [
        "# create a Dense net with 3 hidden layers\n",
        "# we add the ReLU activations as well\n",
        "import tensorflow as tf\n",
        "# we will use the Keras functional API for that\n",
        "input_layer = tf.keras.Input(shape=(2), name=\"input\")\n",
        "h1 = tf.keras.layers.Dense(64, name=\"h1\", activation=\"relu\")(input_layer)\n",
        "h2 = tf.keras.layers.Dense(128, name=\"h2\", activation=\"relu\")(h1)\n",
        "h3 = tf.keras.layers.Dense(128, name=\"h3\", activation=\"relu\")(h2)\n",
        "output_layer = tf.keras.layers.Dense(1, name=\"output\")(h3)\n",
        "\n",
        "# now we can create the model and print the summary\n",
        "model = tf.keras.Model(input_layer, output_layer)\n",
        "# we use BinaryCrossentropy as loss function\n",
        "model.compile(optimizer='adam',   loss=tf.keras.losses.BinaryCrossentropy(from_logits=True), metrics=\"accuracy\")\n",
        "model.summary()"
      ],
      "execution_count": null,
      "outputs": [
        {
          "output_type": "stream",
          "text": [
            "Model: \"functional_45\"\n",
            "_________________________________________________________________\n",
            "Layer (type)                 Output Shape              Param #   \n",
            "=================================================================\n",
            "input (InputLayer)           [(None, 2)]               0         \n",
            "_________________________________________________________________\n",
            "h1 (Dense)                   (None, 64)                192       \n",
            "_________________________________________________________________\n",
            "h2 (Dense)                   (None, 128)               8320      \n",
            "_________________________________________________________________\n",
            "h3 (Dense)                   (None, 128)               16512     \n",
            "_________________________________________________________________\n",
            "output (Dense)               (None, 1)                 129       \n",
            "=================================================================\n",
            "Total params: 25,153\n",
            "Trainable params: 25,153\n",
            "Non-trainable params: 0\n",
            "_________________________________________________________________\n"
          ],
          "name": "stdout"
        }
      ]
    },
    {
      "cell_type": "code",
      "metadata": {
        "id": "xoFnl-sM4LOw"
      },
      "source": [
        "from sklearn.model_selection import train_test_split\n",
        "X_train, X_test, y_train, y_test = train_test_split(res[:, 0:2], res[:, 2:3], test_size=0.33, random_state=42)"
      ],
      "execution_count": null,
      "outputs": []
    },
    {
      "cell_type": "code",
      "metadata": {
        "id": "i4gTnWWF1KTM"
      },
      "source": [
        "history = model.fit(x=X_train, y=y_train, validation_data=(X_test, y_test), epochs=100, verbose=0)"
      ],
      "execution_count": null,
      "outputs": []
    },
    {
      "cell_type": "code",
      "metadata": {
        "colab": {
          "base_uri": "https://localhost:8080/"
        },
        "id": "xvLwOS1R6VEK",
        "outputId": "8c60f5dd-a7d0-4e3b-8b63-a059fce61444"
      },
      "source": [
        "model.evaluate(X_test, y_test)"
      ],
      "execution_count": null,
      "outputs": [
        {
          "output_type": "stream",
          "text": [
            "9/9 [==============================] - 0s 1ms/step - loss: 0.0174 - accuracy: 0.9962\n"
          ],
          "name": "stdout"
        },
        {
          "output_type": "execute_result",
          "data": {
            "text/plain": [
              "[0.01736382581293583, 0.9962121248245239]"
            ]
          },
          "metadata": {
            "tags": []
          },
          "execution_count": 138
        }
      ]
    },
    {
      "cell_type": "markdown",
      "metadata": {
        "id": "JepFgEZa6iWL"
      },
      "source": [
        "We achieve almost **100% accuracy** with this Dense Network setup.\n",
        "You may object that this is not a fair comparison. Our Perceptron has only one unit (neuron) with only two weights. Yes, this is true. But that is all about. The Dense Network is just a layered set of Perceptrons without their built-in ReLU-like activation. It can use any of available activations, although specially the ReLU in the majority of cases seems to be the most efficient one. Therefore its second name - Multi Layer Perceptron.\n",
        "\n",
        "With this layered design we can:\n",
        "\n",
        "1. Encrease the number of weights to extrapolate a complex underlying process\n",
        "2. Feed forward the output of one layer to the next\n",
        "\n",
        "With this feedforward technique we train the layer on the output of the previous one. It can be compared to many sensorical processes in our body, where the complex raw signal is subsequentually broken down in to sets of more \"digestable\" signals.\n"
      ]
    },
    {
      "cell_type": "markdown",
      "metadata": {
        "id": "24GuNnkPb_5w"
      },
      "source": [
        "#### Tensorflow Playground for the Dense Networks"
      ]
    },
    {
      "cell_type": "markdown",
      "metadata": {
        "id": "vLLjuy2EOOL3"
      },
      "source": [
        "With this playground from TensorFlow you try various network settings and observe in real time the inpact.\n",
        "\n"
      ]
    },
    {
      "cell_type": "code",
      "metadata": {
        "colab": {
          "base_uri": "https://localhost:8080/",
          "height": 1000
        },
        "id": "GciQTQB8fxIg",
        "outputId": "eba67621-d28a-4d28-8915-fe430b34367f"
      },
      "source": [
        "%%html\n",
        "<iframe src=\"https://playground.tensorflow.org\" width=\"1200\" height=\"1000\"></iframe>"
      ],
      "execution_count": null,
      "outputs": [
        {
          "output_type": "display_data",
          "data": {
            "text/html": [
              "<iframe src=\"https://playground.tensorflow.org\" width=\"1200\" height=\"1000\"></iframe>"
            ],
            "text/plain": [
              "<IPython.core.display.HTML object>"
            ]
          },
          "metadata": {
            "tags": []
          }
        }
      ]
    },
    {
      "cell_type": "code",
      "metadata": {
        "id": "imCtIIxfWvDs"
      },
      "source": [
        ""
      ],
      "execution_count": null,
      "outputs": []
    }
  ]
}